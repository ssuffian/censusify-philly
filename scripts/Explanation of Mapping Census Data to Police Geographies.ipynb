{
 "cells": [
  {
   "cell_type": "markdown",
   "id": "841e7bc5",
   "metadata": {},
   "source": [
    "This package (censusify-philly) helps people to map census data (using the [census](https://pypi.org/project/census/) python package) to geographies in Philadelphia. We are using [shapely](https://pypi.org/project/shapely/) to manage the shapefile data.\n",
    "\n",
    "**Before moving on, if you want to run this notebook, you will need to first acquire an API key for the US census data. You can do so [here](https://api.census.gov/data/key_signup.html).** Once you have this key, set it as an environment variable `CENSUS_API_KEY` or replace the variable below with the api key."
   ]
  },
  {
   "cell_type": "code",
   "execution_count": 1,
   "id": "34ab3e94",
   "metadata": {},
   "outputs": [],
   "source": [
    "import os\n",
    "\n",
    "census_api_key = os.environ[\"CENSUS_API_KEY\"]"
   ]
  },
  {
   "cell_type": "markdown",
   "id": "07dbf427",
   "metadata": {},
   "source": [
    "This specific notebook will explain how to map **block-group level demographics data** to Philadelphia **Police Service Areas**, using shapefiles provided by the city of Philadelphia. At the bottom of this notebook is some cleaned up code that then generates CSV files of demographics for PSAs, districts, and divisions.\n",
    "\n",
    "This work will require the following pieces of information:\n",
    "- from the us government census: \n",
    "  - shapefiles for all US census block groups in the city of Philadelphia\n",
    "  - demographic counts for all US census block groups in the city of Philadelphia\n",
    "- from the city of Philadelphia\n",
    "  - shapefiles for all Police Service Areas in the city of Philadelphia\n",
    "  \n",
    "Lucky for us, both the city of Philadelphia and the US government use ArcGIS to store their shapefile data, so it will be returned in relatively similar formats."
   ]
  },
  {
   "cell_type": "markdown",
   "id": "70651333",
   "metadata": {},
   "source": [
    "## Step 1: Download the Census block group shapefiles"
   ]
  },
  {
   "cell_type": "markdown",
   "id": "29f0ff72",
   "metadata": {},
   "source": [
    "The shapefiles for the US census data are on a server called tigerweb. The following [URL](https://tigerweb.geo.census.gov/arcgis/rest/services/Census2020/Tracts_Blocks/MapServer/1/query) points to the Arcgis server where anyone can directly make calls that specifically return results at the census block group level."
   ]
  },
  {
   "cell_type": "code",
   "execution_count": 2,
   "id": "f05c40c0",
   "metadata": {},
   "outputs": [],
   "source": [
    "base_url = \"https://tigerweb.geo.census.gov/arcgis/rest/services/Census2020/Tracts_Blocks/MapServer/1/query\""
   ]
  },
  {
   "cell_type": "markdown",
   "id": "abf84991",
   "metadata": {},
   "source": [
    "There are several parameters to provide:\n",
    "\n",
    "- **inSr/outSr**: The projection to return the data in. We want 4326, which is a reference to ESPG4326, which is the ESPG version of [WGS84](https://gisgeography.com/wgs84-world-geodetic-system/), which is the system that returns data in latitude and longitudes. \n",
    "- **where**: our query bounds. In our case we want to pass 'STATE=42 AND COUNTY=101' which represent PA and Philadelphia County respectively.\n",
    "- **spatialRel**: How the results relate to the query. We want 'esriSpatialRelWithin' so we get all results that are within our query bounds.\n",
    "- **f**: stands for format. We are returning it in JSON because thats the easiest to work with in python.\n",
    "- **outFields**: The list of fields to return. We want all relevant location-related fields, as well as the lat/lng centroids.\n",
    "- **returnGeometry**: Whether to return the geometry of the results. The geometry is a list of lat/lng pairs that when mapped represent the shape of a given geography."
   ]
  },
  {
   "cell_type": "code",
   "execution_count": 3,
   "id": "fc296865",
   "metadata": {},
   "outputs": [],
   "source": [
    "import requests\n",
    "from shapely.geometry import Polygon, Point\n",
    "import matplotlib.pyplot as plt\n",
    "from census import Census\n",
    "import pandas as pd\n",
    "\n",
    "# from censusify_philly.services.census.column_mappings import variable_race_mapping # or use appendix below\n",
    "# from censusify_philly.services.census.column_mappings import variable_hispanic_mapping # or use appendix below"
   ]
  },
  {
   "cell_type": "code",
   "execution_count": 4,
   "id": "953251b0",
   "metadata": {},
   "outputs": [
    {
     "ename": "KeyboardInterrupt",
     "evalue": "",
     "output_type": "error",
     "traceback": [
      "\u001b[0;31m---------------------------------------------------------------------------\u001b[0m",
      "\u001b[0;31mKeyboardInterrupt\u001b[0m                         Traceback (most recent call last)",
      "Cell \u001b[0;32mIn [4], line 15\u001b[0m\n\u001b[1;32m      2\u001b[0m county \u001b[38;5;241m=\u001b[39m \u001b[38;5;124m\"\u001b[39m\u001b[38;5;124m101\u001b[39m\u001b[38;5;124m\"\u001b[39m  \u001b[38;5;66;03m# Philly\u001b[39;00m\n\u001b[1;32m      4\u001b[0m params \u001b[38;5;241m=\u001b[39m {\n\u001b[1;32m      5\u001b[0m     \u001b[38;5;124m\"\u001b[39m\u001b[38;5;124minSr\u001b[39m\u001b[38;5;124m\"\u001b[39m: \u001b[38;5;241m4326\u001b[39m,\n\u001b[1;32m      6\u001b[0m     \u001b[38;5;124m\"\u001b[39m\u001b[38;5;124moutSr\u001b[39m\u001b[38;5;124m\"\u001b[39m: \u001b[38;5;241m4326\u001b[39m,\n\u001b[0;32m   (...)\u001b[0m\n\u001b[1;32m     12\u001b[0m     \u001b[38;5;124m\"\u001b[39m\u001b[38;5;124mreturnGeometry\u001b[39m\u001b[38;5;124m\"\u001b[39m: \u001b[38;5;28;01mTrue\u001b[39;00m,\n\u001b[1;32m     13\u001b[0m }\n\u001b[0;32m---> 15\u001b[0m response \u001b[38;5;241m=\u001b[39m \u001b[43mrequests\u001b[49m\u001b[38;5;241;43m.\u001b[39;49m\u001b[43mget\u001b[49m\u001b[43m(\u001b[49m\u001b[43mbase_url\u001b[49m\u001b[43m,\u001b[49m\u001b[43m \u001b[49m\u001b[43mparams\u001b[49m\u001b[43m)\u001b[49m\u001b[38;5;241m.\u001b[39mjson()\n",
      "File \u001b[0;32m~/Library/Caches/pypoetry/virtualenvs/censusify-philly-123bI8J4-py3.10/lib/python3.10/site-packages/requests/api.py:73\u001b[0m, in \u001b[0;36mget\u001b[0;34m(url, params, **kwargs)\u001b[0m\n\u001b[1;32m     62\u001b[0m \u001b[38;5;28;01mdef\u001b[39;00m \u001b[38;5;21mget\u001b[39m(url, params\u001b[38;5;241m=\u001b[39m\u001b[38;5;28;01mNone\u001b[39;00m, \u001b[38;5;241m*\u001b[39m\u001b[38;5;241m*\u001b[39mkwargs):\n\u001b[1;32m     63\u001b[0m     \u001b[38;5;124mr\u001b[39m\u001b[38;5;124;03m\"\"\"Sends a GET request.\u001b[39;00m\n\u001b[1;32m     64\u001b[0m \n\u001b[1;32m     65\u001b[0m \u001b[38;5;124;03m    :param url: URL for the new :class:`Request` object.\u001b[39;00m\n\u001b[0;32m   (...)\u001b[0m\n\u001b[1;32m     70\u001b[0m \u001b[38;5;124;03m    :rtype: requests.Response\u001b[39;00m\n\u001b[1;32m     71\u001b[0m \u001b[38;5;124;03m    \"\"\"\u001b[39;00m\n\u001b[0;32m---> 73\u001b[0m     \u001b[38;5;28;01mreturn\u001b[39;00m \u001b[43mrequest\u001b[49m\u001b[43m(\u001b[49m\u001b[38;5;124;43m\"\u001b[39;49m\u001b[38;5;124;43mget\u001b[39;49m\u001b[38;5;124;43m\"\u001b[39;49m\u001b[43m,\u001b[49m\u001b[43m \u001b[49m\u001b[43murl\u001b[49m\u001b[43m,\u001b[49m\u001b[43m \u001b[49m\u001b[43mparams\u001b[49m\u001b[38;5;241;43m=\u001b[39;49m\u001b[43mparams\u001b[49m\u001b[43m,\u001b[49m\u001b[43m \u001b[49m\u001b[38;5;241;43m*\u001b[39;49m\u001b[38;5;241;43m*\u001b[39;49m\u001b[43mkwargs\u001b[49m\u001b[43m)\u001b[49m\n",
      "File \u001b[0;32m~/Library/Caches/pypoetry/virtualenvs/censusify-philly-123bI8J4-py3.10/lib/python3.10/site-packages/requests/api.py:59\u001b[0m, in \u001b[0;36mrequest\u001b[0;34m(method, url, **kwargs)\u001b[0m\n\u001b[1;32m     55\u001b[0m \u001b[38;5;66;03m# By using the 'with' statement we are sure the session is closed, thus we\u001b[39;00m\n\u001b[1;32m     56\u001b[0m \u001b[38;5;66;03m# avoid leaving sockets open which can trigger a ResourceWarning in some\u001b[39;00m\n\u001b[1;32m     57\u001b[0m \u001b[38;5;66;03m# cases, and look like a memory leak in others.\u001b[39;00m\n\u001b[1;32m     58\u001b[0m \u001b[38;5;28;01mwith\u001b[39;00m sessions\u001b[38;5;241m.\u001b[39mSession() \u001b[38;5;28;01mas\u001b[39;00m session:\n\u001b[0;32m---> 59\u001b[0m     \u001b[38;5;28;01mreturn\u001b[39;00m \u001b[43msession\u001b[49m\u001b[38;5;241;43m.\u001b[39;49m\u001b[43mrequest\u001b[49m\u001b[43m(\u001b[49m\u001b[43mmethod\u001b[49m\u001b[38;5;241;43m=\u001b[39;49m\u001b[43mmethod\u001b[49m\u001b[43m,\u001b[49m\u001b[43m \u001b[49m\u001b[43murl\u001b[49m\u001b[38;5;241;43m=\u001b[39;49m\u001b[43murl\u001b[49m\u001b[43m,\u001b[49m\u001b[43m \u001b[49m\u001b[38;5;241;43m*\u001b[39;49m\u001b[38;5;241;43m*\u001b[39;49m\u001b[43mkwargs\u001b[49m\u001b[43m)\u001b[49m\n",
      "File \u001b[0;32m~/Library/Caches/pypoetry/virtualenvs/censusify-philly-123bI8J4-py3.10/lib/python3.10/site-packages/requests/sessions.py:587\u001b[0m, in \u001b[0;36mSession.request\u001b[0;34m(self, method, url, params, data, headers, cookies, files, auth, timeout, allow_redirects, proxies, hooks, stream, verify, cert, json)\u001b[0m\n\u001b[1;32m    582\u001b[0m send_kwargs \u001b[38;5;241m=\u001b[39m {\n\u001b[1;32m    583\u001b[0m     \u001b[38;5;124m\"\u001b[39m\u001b[38;5;124mtimeout\u001b[39m\u001b[38;5;124m\"\u001b[39m: timeout,\n\u001b[1;32m    584\u001b[0m     \u001b[38;5;124m\"\u001b[39m\u001b[38;5;124mallow_redirects\u001b[39m\u001b[38;5;124m\"\u001b[39m: allow_redirects,\n\u001b[1;32m    585\u001b[0m }\n\u001b[1;32m    586\u001b[0m send_kwargs\u001b[38;5;241m.\u001b[39mupdate(settings)\n\u001b[0;32m--> 587\u001b[0m resp \u001b[38;5;241m=\u001b[39m \u001b[38;5;28;43mself\u001b[39;49m\u001b[38;5;241;43m.\u001b[39;49m\u001b[43msend\u001b[49m\u001b[43m(\u001b[49m\u001b[43mprep\u001b[49m\u001b[43m,\u001b[49m\u001b[43m \u001b[49m\u001b[38;5;241;43m*\u001b[39;49m\u001b[38;5;241;43m*\u001b[39;49m\u001b[43msend_kwargs\u001b[49m\u001b[43m)\u001b[49m\n\u001b[1;32m    589\u001b[0m \u001b[38;5;28;01mreturn\u001b[39;00m resp\n",
      "File \u001b[0;32m~/Library/Caches/pypoetry/virtualenvs/censusify-philly-123bI8J4-py3.10/lib/python3.10/site-packages/requests/sessions.py:701\u001b[0m, in \u001b[0;36mSession.send\u001b[0;34m(self, request, **kwargs)\u001b[0m\n\u001b[1;32m    698\u001b[0m start \u001b[38;5;241m=\u001b[39m preferred_clock()\n\u001b[1;32m    700\u001b[0m \u001b[38;5;66;03m# Send the request\u001b[39;00m\n\u001b[0;32m--> 701\u001b[0m r \u001b[38;5;241m=\u001b[39m \u001b[43madapter\u001b[49m\u001b[38;5;241;43m.\u001b[39;49m\u001b[43msend\u001b[49m\u001b[43m(\u001b[49m\u001b[43mrequest\u001b[49m\u001b[43m,\u001b[49m\u001b[43m \u001b[49m\u001b[38;5;241;43m*\u001b[39;49m\u001b[38;5;241;43m*\u001b[39;49m\u001b[43mkwargs\u001b[49m\u001b[43m)\u001b[49m\n\u001b[1;32m    703\u001b[0m \u001b[38;5;66;03m# Total elapsed time of the request (approximately)\u001b[39;00m\n\u001b[1;32m    704\u001b[0m elapsed \u001b[38;5;241m=\u001b[39m preferred_clock() \u001b[38;5;241m-\u001b[39m start\n",
      "File \u001b[0;32m~/Library/Caches/pypoetry/virtualenvs/censusify-philly-123bI8J4-py3.10/lib/python3.10/site-packages/requests/adapters.py:489\u001b[0m, in \u001b[0;36mHTTPAdapter.send\u001b[0;34m(self, request, stream, timeout, verify, cert, proxies)\u001b[0m\n\u001b[1;32m    487\u001b[0m \u001b[38;5;28;01mtry\u001b[39;00m:\n\u001b[1;32m    488\u001b[0m     \u001b[38;5;28;01mif\u001b[39;00m \u001b[38;5;129;01mnot\u001b[39;00m chunked:\n\u001b[0;32m--> 489\u001b[0m         resp \u001b[38;5;241m=\u001b[39m \u001b[43mconn\u001b[49m\u001b[38;5;241;43m.\u001b[39;49m\u001b[43murlopen\u001b[49m\u001b[43m(\u001b[49m\n\u001b[1;32m    490\u001b[0m \u001b[43m            \u001b[49m\u001b[43mmethod\u001b[49m\u001b[38;5;241;43m=\u001b[39;49m\u001b[43mrequest\u001b[49m\u001b[38;5;241;43m.\u001b[39;49m\u001b[43mmethod\u001b[49m\u001b[43m,\u001b[49m\n\u001b[1;32m    491\u001b[0m \u001b[43m            \u001b[49m\u001b[43murl\u001b[49m\u001b[38;5;241;43m=\u001b[39;49m\u001b[43murl\u001b[49m\u001b[43m,\u001b[49m\n\u001b[1;32m    492\u001b[0m \u001b[43m            \u001b[49m\u001b[43mbody\u001b[49m\u001b[38;5;241;43m=\u001b[39;49m\u001b[43mrequest\u001b[49m\u001b[38;5;241;43m.\u001b[39;49m\u001b[43mbody\u001b[49m\u001b[43m,\u001b[49m\n\u001b[1;32m    493\u001b[0m \u001b[43m            \u001b[49m\u001b[43mheaders\u001b[49m\u001b[38;5;241;43m=\u001b[39;49m\u001b[43mrequest\u001b[49m\u001b[38;5;241;43m.\u001b[39;49m\u001b[43mheaders\u001b[49m\u001b[43m,\u001b[49m\n\u001b[1;32m    494\u001b[0m \u001b[43m            \u001b[49m\u001b[43mredirect\u001b[49m\u001b[38;5;241;43m=\u001b[39;49m\u001b[38;5;28;43;01mFalse\u001b[39;49;00m\u001b[43m,\u001b[49m\n\u001b[1;32m    495\u001b[0m \u001b[43m            \u001b[49m\u001b[43massert_same_host\u001b[49m\u001b[38;5;241;43m=\u001b[39;49m\u001b[38;5;28;43;01mFalse\u001b[39;49;00m\u001b[43m,\u001b[49m\n\u001b[1;32m    496\u001b[0m \u001b[43m            \u001b[49m\u001b[43mpreload_content\u001b[49m\u001b[38;5;241;43m=\u001b[39;49m\u001b[38;5;28;43;01mFalse\u001b[39;49;00m\u001b[43m,\u001b[49m\n\u001b[1;32m    497\u001b[0m \u001b[43m            \u001b[49m\u001b[43mdecode_content\u001b[49m\u001b[38;5;241;43m=\u001b[39;49m\u001b[38;5;28;43;01mFalse\u001b[39;49;00m\u001b[43m,\u001b[49m\n\u001b[1;32m    498\u001b[0m \u001b[43m            \u001b[49m\u001b[43mretries\u001b[49m\u001b[38;5;241;43m=\u001b[39;49m\u001b[38;5;28;43mself\u001b[39;49m\u001b[38;5;241;43m.\u001b[39;49m\u001b[43mmax_retries\u001b[49m\u001b[43m,\u001b[49m\n\u001b[1;32m    499\u001b[0m \u001b[43m            \u001b[49m\u001b[43mtimeout\u001b[49m\u001b[38;5;241;43m=\u001b[39;49m\u001b[43mtimeout\u001b[49m\u001b[43m,\u001b[49m\n\u001b[1;32m    500\u001b[0m \u001b[43m        \u001b[49m\u001b[43m)\u001b[49m\n\u001b[1;32m    502\u001b[0m     \u001b[38;5;66;03m# Send the request.\u001b[39;00m\n\u001b[1;32m    503\u001b[0m     \u001b[38;5;28;01melse\u001b[39;00m:\n\u001b[1;32m    504\u001b[0m         \u001b[38;5;28;01mif\u001b[39;00m \u001b[38;5;28mhasattr\u001b[39m(conn, \u001b[38;5;124m\"\u001b[39m\u001b[38;5;124mproxy_pool\u001b[39m\u001b[38;5;124m\"\u001b[39m):\n",
      "File \u001b[0;32m~/Library/Caches/pypoetry/virtualenvs/censusify-philly-123bI8J4-py3.10/lib/python3.10/site-packages/urllib3/connectionpool.py:703\u001b[0m, in \u001b[0;36mHTTPConnectionPool.urlopen\u001b[0;34m(self, method, url, body, headers, retries, redirect, assert_same_host, timeout, pool_timeout, release_conn, chunked, body_pos, **response_kw)\u001b[0m\n\u001b[1;32m    700\u001b[0m     \u001b[38;5;28mself\u001b[39m\u001b[38;5;241m.\u001b[39m_prepare_proxy(conn)\n\u001b[1;32m    702\u001b[0m \u001b[38;5;66;03m# Make the request on the httplib connection object.\u001b[39;00m\n\u001b[0;32m--> 703\u001b[0m httplib_response \u001b[38;5;241m=\u001b[39m \u001b[38;5;28;43mself\u001b[39;49m\u001b[38;5;241;43m.\u001b[39;49m\u001b[43m_make_request\u001b[49m\u001b[43m(\u001b[49m\n\u001b[1;32m    704\u001b[0m \u001b[43m    \u001b[49m\u001b[43mconn\u001b[49m\u001b[43m,\u001b[49m\n\u001b[1;32m    705\u001b[0m \u001b[43m    \u001b[49m\u001b[43mmethod\u001b[49m\u001b[43m,\u001b[49m\n\u001b[1;32m    706\u001b[0m \u001b[43m    \u001b[49m\u001b[43murl\u001b[49m\u001b[43m,\u001b[49m\n\u001b[1;32m    707\u001b[0m \u001b[43m    \u001b[49m\u001b[43mtimeout\u001b[49m\u001b[38;5;241;43m=\u001b[39;49m\u001b[43mtimeout_obj\u001b[49m\u001b[43m,\u001b[49m\n\u001b[1;32m    708\u001b[0m \u001b[43m    \u001b[49m\u001b[43mbody\u001b[49m\u001b[38;5;241;43m=\u001b[39;49m\u001b[43mbody\u001b[49m\u001b[43m,\u001b[49m\n\u001b[1;32m    709\u001b[0m \u001b[43m    \u001b[49m\u001b[43mheaders\u001b[49m\u001b[38;5;241;43m=\u001b[39;49m\u001b[43mheaders\u001b[49m\u001b[43m,\u001b[49m\n\u001b[1;32m    710\u001b[0m \u001b[43m    \u001b[49m\u001b[43mchunked\u001b[49m\u001b[38;5;241;43m=\u001b[39;49m\u001b[43mchunked\u001b[49m\u001b[43m,\u001b[49m\n\u001b[1;32m    711\u001b[0m \u001b[43m\u001b[49m\u001b[43m)\u001b[49m\n\u001b[1;32m    713\u001b[0m \u001b[38;5;66;03m# If we're going to release the connection in ``finally:``, then\u001b[39;00m\n\u001b[1;32m    714\u001b[0m \u001b[38;5;66;03m# the response doesn't need to know about the connection. Otherwise\u001b[39;00m\n\u001b[1;32m    715\u001b[0m \u001b[38;5;66;03m# it will also try to release it and we'll have a double-release\u001b[39;00m\n\u001b[1;32m    716\u001b[0m \u001b[38;5;66;03m# mess.\u001b[39;00m\n\u001b[1;32m    717\u001b[0m response_conn \u001b[38;5;241m=\u001b[39m conn \u001b[38;5;28;01mif\u001b[39;00m \u001b[38;5;129;01mnot\u001b[39;00m release_conn \u001b[38;5;28;01melse\u001b[39;00m \u001b[38;5;28;01mNone\u001b[39;00m\n",
      "File \u001b[0;32m~/Library/Caches/pypoetry/virtualenvs/censusify-philly-123bI8J4-py3.10/lib/python3.10/site-packages/urllib3/connectionpool.py:386\u001b[0m, in \u001b[0;36mHTTPConnectionPool._make_request\u001b[0;34m(self, conn, method, url, timeout, chunked, **httplib_request_kw)\u001b[0m\n\u001b[1;32m    384\u001b[0m \u001b[38;5;66;03m# Trigger any extra validation we need to do.\u001b[39;00m\n\u001b[1;32m    385\u001b[0m \u001b[38;5;28;01mtry\u001b[39;00m:\n\u001b[0;32m--> 386\u001b[0m     \u001b[38;5;28;43mself\u001b[39;49m\u001b[38;5;241;43m.\u001b[39;49m\u001b[43m_validate_conn\u001b[49m\u001b[43m(\u001b[49m\u001b[43mconn\u001b[49m\u001b[43m)\u001b[49m\n\u001b[1;32m    387\u001b[0m \u001b[38;5;28;01mexcept\u001b[39;00m (SocketTimeout, BaseSSLError) \u001b[38;5;28;01mas\u001b[39;00m e:\n\u001b[1;32m    388\u001b[0m     \u001b[38;5;66;03m# Py2 raises this as a BaseSSLError, Py3 raises it as socket timeout.\u001b[39;00m\n\u001b[1;32m    389\u001b[0m     \u001b[38;5;28mself\u001b[39m\u001b[38;5;241m.\u001b[39m_raise_timeout(err\u001b[38;5;241m=\u001b[39me, url\u001b[38;5;241m=\u001b[39murl, timeout_value\u001b[38;5;241m=\u001b[39mconn\u001b[38;5;241m.\u001b[39mtimeout)\n",
      "File \u001b[0;32m~/Library/Caches/pypoetry/virtualenvs/censusify-philly-123bI8J4-py3.10/lib/python3.10/site-packages/urllib3/connectionpool.py:1042\u001b[0m, in \u001b[0;36mHTTPSConnectionPool._validate_conn\u001b[0;34m(self, conn)\u001b[0m\n\u001b[1;32m   1040\u001b[0m \u001b[38;5;66;03m# Force connect early to allow us to validate the connection.\u001b[39;00m\n\u001b[1;32m   1041\u001b[0m \u001b[38;5;28;01mif\u001b[39;00m \u001b[38;5;129;01mnot\u001b[39;00m \u001b[38;5;28mgetattr\u001b[39m(conn, \u001b[38;5;124m\"\u001b[39m\u001b[38;5;124msock\u001b[39m\u001b[38;5;124m\"\u001b[39m, \u001b[38;5;28;01mNone\u001b[39;00m):  \u001b[38;5;66;03m# AppEngine might not have  `.sock`\u001b[39;00m\n\u001b[0;32m-> 1042\u001b[0m     \u001b[43mconn\u001b[49m\u001b[38;5;241;43m.\u001b[39;49m\u001b[43mconnect\u001b[49m\u001b[43m(\u001b[49m\u001b[43m)\u001b[49m\n\u001b[1;32m   1044\u001b[0m \u001b[38;5;28;01mif\u001b[39;00m \u001b[38;5;129;01mnot\u001b[39;00m conn\u001b[38;5;241m.\u001b[39mis_verified:\n\u001b[1;32m   1045\u001b[0m     warnings\u001b[38;5;241m.\u001b[39mwarn(\n\u001b[1;32m   1046\u001b[0m         (\n\u001b[1;32m   1047\u001b[0m             \u001b[38;5;124m\"\u001b[39m\u001b[38;5;124mUnverified HTTPS request is being made to host \u001b[39m\u001b[38;5;124m'\u001b[39m\u001b[38;5;132;01m%s\u001b[39;00m\u001b[38;5;124m'\u001b[39m\u001b[38;5;124m. \u001b[39m\u001b[38;5;124m\"\u001b[39m\n\u001b[0;32m   (...)\u001b[0m\n\u001b[1;32m   1052\u001b[0m         InsecureRequestWarning,\n\u001b[1;32m   1053\u001b[0m     )\n",
      "File \u001b[0;32m~/Library/Caches/pypoetry/virtualenvs/censusify-philly-123bI8J4-py3.10/lib/python3.10/site-packages/urllib3/connection.py:358\u001b[0m, in \u001b[0;36mHTTPSConnection.connect\u001b[0;34m(self)\u001b[0m\n\u001b[1;32m    356\u001b[0m \u001b[38;5;28;01mdef\u001b[39;00m \u001b[38;5;21mconnect\u001b[39m(\u001b[38;5;28mself\u001b[39m):\n\u001b[1;32m    357\u001b[0m     \u001b[38;5;66;03m# Add certificate verification\u001b[39;00m\n\u001b[0;32m--> 358\u001b[0m     \u001b[38;5;28mself\u001b[39m\u001b[38;5;241m.\u001b[39msock \u001b[38;5;241m=\u001b[39m conn \u001b[38;5;241m=\u001b[39m \u001b[38;5;28;43mself\u001b[39;49m\u001b[38;5;241;43m.\u001b[39;49m\u001b[43m_new_conn\u001b[49m\u001b[43m(\u001b[49m\u001b[43m)\u001b[49m\n\u001b[1;32m    359\u001b[0m     hostname \u001b[38;5;241m=\u001b[39m \u001b[38;5;28mself\u001b[39m\u001b[38;5;241m.\u001b[39mhost\n\u001b[1;32m    360\u001b[0m     tls_in_tls \u001b[38;5;241m=\u001b[39m \u001b[38;5;28;01mFalse\u001b[39;00m\n",
      "File \u001b[0;32m~/Library/Caches/pypoetry/virtualenvs/censusify-philly-123bI8J4-py3.10/lib/python3.10/site-packages/urllib3/connection.py:174\u001b[0m, in \u001b[0;36mHTTPConnection._new_conn\u001b[0;34m(self)\u001b[0m\n\u001b[1;32m    171\u001b[0m     extra_kw[\u001b[38;5;124m\"\u001b[39m\u001b[38;5;124msocket_options\u001b[39m\u001b[38;5;124m\"\u001b[39m] \u001b[38;5;241m=\u001b[39m \u001b[38;5;28mself\u001b[39m\u001b[38;5;241m.\u001b[39msocket_options\n\u001b[1;32m    173\u001b[0m \u001b[38;5;28;01mtry\u001b[39;00m:\n\u001b[0;32m--> 174\u001b[0m     conn \u001b[38;5;241m=\u001b[39m \u001b[43mconnection\u001b[49m\u001b[38;5;241;43m.\u001b[39;49m\u001b[43mcreate_connection\u001b[49m\u001b[43m(\u001b[49m\n\u001b[1;32m    175\u001b[0m \u001b[43m        \u001b[49m\u001b[43m(\u001b[49m\u001b[38;5;28;43mself\u001b[39;49m\u001b[38;5;241;43m.\u001b[39;49m\u001b[43m_dns_host\u001b[49m\u001b[43m,\u001b[49m\u001b[43m \u001b[49m\u001b[38;5;28;43mself\u001b[39;49m\u001b[38;5;241;43m.\u001b[39;49m\u001b[43mport\u001b[49m\u001b[43m)\u001b[49m\u001b[43m,\u001b[49m\u001b[43m \u001b[49m\u001b[38;5;28;43mself\u001b[39;49m\u001b[38;5;241;43m.\u001b[39;49m\u001b[43mtimeout\u001b[49m\u001b[43m,\u001b[49m\u001b[43m \u001b[49m\u001b[38;5;241;43m*\u001b[39;49m\u001b[38;5;241;43m*\u001b[39;49m\u001b[43mextra_kw\u001b[49m\n\u001b[1;32m    176\u001b[0m \u001b[43m    \u001b[49m\u001b[43m)\u001b[49m\n\u001b[1;32m    178\u001b[0m \u001b[38;5;28;01mexcept\u001b[39;00m SocketTimeout:\n\u001b[1;32m    179\u001b[0m     \u001b[38;5;28;01mraise\u001b[39;00m ConnectTimeoutError(\n\u001b[1;32m    180\u001b[0m         \u001b[38;5;28mself\u001b[39m,\n\u001b[1;32m    181\u001b[0m         \u001b[38;5;124m\"\u001b[39m\u001b[38;5;124mConnection to \u001b[39m\u001b[38;5;132;01m%s\u001b[39;00m\u001b[38;5;124m timed out. (connect timeout=\u001b[39m\u001b[38;5;132;01m%s\u001b[39;00m\u001b[38;5;124m)\u001b[39m\u001b[38;5;124m\"\u001b[39m\n\u001b[1;32m    182\u001b[0m         \u001b[38;5;241m%\u001b[39m (\u001b[38;5;28mself\u001b[39m\u001b[38;5;241m.\u001b[39mhost, \u001b[38;5;28mself\u001b[39m\u001b[38;5;241m.\u001b[39mtimeout),\n\u001b[1;32m    183\u001b[0m     )\n",
      "File \u001b[0;32m~/Library/Caches/pypoetry/virtualenvs/censusify-philly-123bI8J4-py3.10/lib/python3.10/site-packages/urllib3/util/connection.py:85\u001b[0m, in \u001b[0;36mcreate_connection\u001b[0;34m(address, timeout, source_address, socket_options)\u001b[0m\n\u001b[1;32m     83\u001b[0m     \u001b[38;5;28;01mif\u001b[39;00m source_address:\n\u001b[1;32m     84\u001b[0m         sock\u001b[38;5;241m.\u001b[39mbind(source_address)\n\u001b[0;32m---> 85\u001b[0m     \u001b[43msock\u001b[49m\u001b[38;5;241;43m.\u001b[39;49m\u001b[43mconnect\u001b[49m\u001b[43m(\u001b[49m\u001b[43msa\u001b[49m\u001b[43m)\u001b[49m\n\u001b[1;32m     86\u001b[0m     \u001b[38;5;28;01mreturn\u001b[39;00m sock\n\u001b[1;32m     88\u001b[0m \u001b[38;5;28;01mexcept\u001b[39;00m socket\u001b[38;5;241m.\u001b[39merror \u001b[38;5;28;01mas\u001b[39;00m e:\n",
      "\u001b[0;31mKeyboardInterrupt\u001b[0m: "
     ]
    }
   ],
   "source": [
    "state = \"42\"  # PA\n",
    "county = \"101\"  # Philly\n",
    "\n",
    "params = {\n",
    "    \"inSr\": 4326,\n",
    "    \"outSr\": 4326,\n",
    "    \"spatialRel\": \"esriSpatialRelWithin\",\n",
    "    \"outFields\": \"STATE,COUNTY,TRACT,BLKGRP,GEOID,CENTLAT,CENTLON\",\n",
    "    \"f\": \"json\",\n",
    "    \"where\": f\"STATE='{state}' AND COUNTY='{county}'\",\n",
    "    \"geometryType\": \"esriGeometryPoint\",\n",
    "    \"returnGeometry\": True,\n",
    "}\n",
    "\n",
    "response = requests.get(base_url, params).json()"
   ]
  },
  {
   "cell_type": "code",
   "execution_count": null,
   "id": "97d28762",
   "metadata": {},
   "outputs": [],
   "source": [
    "# An example of one of the census block groups.\n",
    "response[\"features\"][0]"
   ]
  },
  {
   "cell_type": "markdown",
   "id": "bf89e3bd",
   "metadata": {},
   "source": [
    "It'll be easier if instead of a list of geographies, we store them as a dictionary, keyed by the GEOID (which is a concatenation of the state,county,tract, and block group). We store them below as `philly_census_block_group_geographies`"
   ]
  },
  {
   "cell_type": "code",
   "execution_count": null,
   "id": "9e631a33",
   "metadata": {},
   "outputs": [],
   "source": [
    "philly_census_block_group_geographies = response[\"features\"]\n",
    "\n",
    "all_census_geographies_dict = {\n",
    "    feat[\"attributes\"][\"GEOID\"]: {\n",
    "        \"geometry\": Polygon(feat[\"geometry\"][\"rings\"][0]),\n",
    "        \"centroid\": Point(\n",
    "            float(feat[\"attributes\"][\"CENTLON\"]),\n",
    "            float(feat[\"attributes\"][\"CENTLAT\"]),\n",
    "        ),\n",
    "    }\n",
    "    for feat in philly_census_block_group_geographies\n",
    "}"
   ]
  },
  {
   "cell_type": "markdown",
   "id": "46b1073e",
   "metadata": {},
   "source": [
    "## Step 2: Download the Census demographics data\n",
    "\n",
    "This step includes some data cleaning, as the raw census data gives non-descriptive column names. However, if you have census demographics data already cleaned, you can simply create a dictionary that is keyed on the GEOIDs (similar to the dictionary above, make sure to fill in zeroes similarly to how it is done from Arcgis).\n",
    "\n",
    "I had to look up the census columns to get the column names that are used for the Census API. "
   ]
  },
  {
   "cell_type": "code",
   "execution_count": null,
   "id": "b219d242",
   "metadata": {},
   "outputs": [],
   "source": [
    "race_cols = [f\"P1_00{i}N\" for i in range(1, 10)]\n",
    "print(\"RACE:\", race_cols)\n",
    "hispanic_cols = [\"P2_002N\", \"P2_003N\"]\n",
    "print(\"HISPANIC:\", hispanic_cols)\n",
    "race_hispanic_cols = [f\"P2_0{i:02}N\" for i in range(4, 12)]\n",
    "print(\"RACE+HISPANIC:\", race_hispanic_cols)\n",
    "total_col = \"H1_001N\"\n",
    "print(\"TOTAL:\", total_col)"
   ]
  },
  {
   "cell_type": "code",
   "execution_count": null,
   "id": "0c45368d",
   "metadata": {},
   "outputs": [],
   "source": [
    "census_demographics_fields = (\n",
    "    [total_col] + race_cols + hispanic_cols + race_hispanic_cols\n",
    ")\n",
    "census_demographics_fields"
   ]
  },
  {
   "cell_type": "code",
   "execution_count": null,
   "id": "bdc8118f",
   "metadata": {},
   "outputs": [],
   "source": [
    "census_obj = Census(census_api_key)\n",
    "census_demo_results = census_obj.pl.state_county_blockgroup(\n",
    "    fields=[\"NAME\"] + census_demographics_fields,\n",
    "    state_fips=state,\n",
    "    county_fips=county,\n",
    "    tract=\"*\",\n",
    "    blockgroup=\"*\",\n",
    ")"
   ]
  },
  {
   "cell_type": "markdown",
   "id": "8c349461",
   "metadata": {},
   "source": [
    "I used this [link](https://api.census.gov/data/2020/dec/pl/variables.json) to create a more sensible mapping from these numerical columns (for example P2_006N) to descriptive column names. I also did some hacky manipulation of the column names to make them more readable."
   ]
  },
  {
   "cell_type": "code",
   "execution_count": null,
   "id": "7ac574a4",
   "metadata": {},
   "outputs": [],
   "source": [
    "variables_response = requests.get(\n",
    "    \"https://api.census.gov/data/2020/dec/pl/variables.json\"\n",
    ")\n",
    "census_variables = variables_response.json()[\"variables\"]\n",
    "relevant_census_variables = {key: val for key, val in census_variables.items() if key in census_demographics_fields}"
   ]
  },
  {
   "cell_type": "code",
   "execution_count": null,
   "id": "688c18b3",
   "metadata": {},
   "outputs": [],
   "source": [
    "census_variables['P2_001N']"
   ]
  },
  {
   "cell_type": "code",
   "execution_count": null,
   "id": "b2e20ce6",
   "metadata": {},
   "outputs": [],
   "source": [
    "for key,val in relevant_census_variables.items():\n",
    "    print(key, val['label'])"
   ]
  },
  {
   "cell_type": "code",
   "execution_count": null,
   "id": "20b244a0",
   "metadata": {},
   "outputs": [],
   "source": [
    "census_demo_results_df = pd.DataFrame(census_demo_results)\n",
    "\n",
    "# combine to set full geoid as index\n",
    "census_demo_results_df.index = census_demo_results_df[\n",
    "    [\"NAME\", \"state\", \"county\", \"tract\", \"block group\"]\n",
    "].apply(lambda x: f\"{x['state']}{x['county']}{x['tract']}{x['block group']}\", axis=1)\n",
    "\n",
    "geoid_dict = {\n",
    "    index: x[[\"NAME\", \"state\", \"county\", \"tract\", \"block group\"]].to_dict()\n",
    "    for index, x in census_demo_results_df.iterrows()\n",
    "}\n",
    "\n",
    "census_demo_results_df = census_demo_results_df.drop([\"NAME\",\"state\",\"county\",\"tract\",\"block group\"],axis=1)"
   ]
  },
  {
   "cell_type": "code",
   "execution_count": null,
   "id": "3a23631b",
   "metadata": {},
   "outputs": [],
   "source": [
    "def census_demographics_mapping(census_p_number_dict, *, census_variables):\n",
    "    cleaned_census_dict = {}\n",
    "    for p_census_name, number_of_people in census_p_number_dict.items():\n",
    "        human_readable_census_label = census_variables[p_census_name][\"label\"]\n",
    "        cleaned_census_label = (\n",
    "            human_readable_census_label.replace(\"!!Total:!!\", \"\")\n",
    "            .replace(\"Population of one race:!!\", \"\")\n",
    "            .replace(\"Population of two or more races\", \"Multiracial\")\n",
    "            .strip()\n",
    "            .rstrip(\":\")\n",
    "        )\n",
    "        cleaned_census_dict[cleaned_census_label] = number_of_people\n",
    "\n",
    "    return {\n",
    "        # \"White - Non-Latino\": cleaned_census_dict['Not Hispanic or Latino:!!White alone'],\n",
    "        # \"Black - Non-Latino\": cleaned_census_dict['Not Hispanic or Latino:!!Black or African American alone'],\n",
    "        # \"White - Latino\": cleaned_census_dict['White alone'] - cleaned_census_dict['Not Hispanic or Latino:!!White alone'],\n",
    "        # \"Black - Latino\": cleaned_census_dict['Black or African American alone'] - cleaned_census_dict['Not Hispanic or Latino:!!Black or African American alone'],\n",
    "        \"Hispanic or Latino\": cleaned_census_dict[\"Hispanic or Latino\"],\n",
    "        \"White\": cleaned_census_dict[\"Not Hispanic or Latino:!!White alone\"],\n",
    "        \"Black or African American\": cleaned_census_dict[\n",
    "            \"Not Hispanic or Latino:!!Black or African American alone\"\n",
    "        ],\n",
    "        \"American Indian\": cleaned_census_dict[\n",
    "            \"Not Hispanic or Latino:!!American Indian and Alaska Native alone\"\n",
    "        ],\n",
    "        \"Asian\": cleaned_census_dict[\"Not Hispanic or Latino:!!Asian alone\"]\n",
    "        + cleaned_census_dict[\n",
    "            \"Not Hispanic or Latino:!!Native Hawaiian and Other Pacific Islander alone\"\n",
    "        ],\n",
    "        \"Unknown\": cleaned_census_dict[\"Not Hispanic or Latino:!!Some Other Race alone\"]\n",
    "        + cleaned_census_dict[\"Not Hispanic or Latino:!!Multiracial\"],\n",
    "        \"Total\": cleaned_census_dict[\"Hispanic or Latino\"]\n",
    "        + cleaned_census_dict[\"Not Hispanic or Latino\"],\n",
    "    }    \n",
    "\n",
    "cleaned_census_demo_results = []\n",
    "for geoid, result in census_demo_results_df.iterrows():\n",
    "    # Go through each demographic (i.e. P1_004N)\n",
    "    odp_census_dict = census_demographics_mapping(result.to_dict(), census_variables=relevant_census_variables)\n",
    "    odp_census_dict['geoid'] = geoid\n",
    "    cleaned_census_demo_results.append(odp_census_dict)\n",
    "cleaned_census_demo_results_df = pd.DataFrame(cleaned_census_demo_results).set_index(\n",
    "    \"geoid\"\n",
    ")"
   ]
  },
  {
   "cell_type": "markdown",
   "id": "3671fe1a",
   "metadata": {},
   "source": [
    "Next we take this list and we make a dictionary keyed on GEOID (similar to the census geography data)"
   ]
  },
  {
   "cell_type": "code",
   "execution_count": null,
   "id": "ec1ee273",
   "metadata": {},
   "outputs": [],
   "source": [
    "all_census_data_dict = {key[\"geoid\"]: key for key in cleaned_census_demo_results}"
   ]
  },
  {
   "cell_type": "markdown",
   "id": "40c8b5b0",
   "metadata": {},
   "source": [
    "## Step 3: Get PSA geography from the city\n",
    "\n",
    "This query looks very similar to the Census geography query because it also uses Arcgis. Key differences are that we want all of the `outFields` so we pass a `*`. We also want all of the PSAs, so we pass where `1=1`."
   ]
  },
  {
   "cell_type": "code",
   "execution_count": null,
   "id": "6f6f8b08",
   "metadata": {},
   "outputs": [],
   "source": [
    "# PSA Geographies\n",
    "psa_url = \"https://services.arcgis.com/fLeGjb7u4uXqeF9q/arcgis/rest/services/Boundaries_PSA/FeatureServer/0/query\"\n",
    "\n",
    "\n",
    "state = \"42\"  # PA\n",
    "county = \"101\"  # Philly\n",
    "\n",
    "params = {\n",
    "    \"inSr\": 4326,\n",
    "    \"outSr\": 4326,\n",
    "    \"spatialRel\": \"esriSpatialRelWithin\",\n",
    "    \"outFields\": \"*\",\n",
    "    \"f\": \"json\",\n",
    "    \"where\": \"1=1\",\n",
    "    \"geometryType\": \"esriGeometryPoint\",\n",
    "    \"returnGeometry\": True,\n",
    "}\n",
    "\n",
    "all_psa_data = requests.get(psa_url, params).json()\n",
    "all_psa_dict = {\n",
    "    psa[\"attributes\"][\"PSA_NUM\"]: psa[\"geometry\"][\"rings\"][0]\n",
    "    for psa in all_psa_data[\"features\"]\n",
    "}"
   ]
  },
  {
   "cell_type": "markdown",
   "id": "54c92aa0",
   "metadata": {},
   "source": [
    "## Step 4: Mapping census geographic data to PSAs\n",
    "\n",
    "This example will go in detail on one PSA. The following will use District 14, PSA 4 as an example. This will be referenced as full PSA 144. \n",
    "\n",
    "We need to map the geography, and create weights for each census geography assigned to each PSA. These weightings are then used to assign demographics data.\n",
    "\n",
    "There are two methods that can be used to do this mapping. \n",
    "\n",
    "1) By block group centroid\n",
    "2) By % area overlap"
   ]
  },
  {
   "cell_type": "code",
   "execution_count": null,
   "id": "83702334",
   "metadata": {},
   "outputs": [],
   "source": [
    "psa_name = \"144\"\n",
    "psa_x = Polygon(all_psa_dict[psa_name])\n",
    "psa_x"
   ]
  },
  {
   "cell_type": "markdown",
   "id": "d0d0256d",
   "metadata": {},
   "source": [
    "### Step 4, Option 1: Map census geography data to PSAs (By Block Group centroid)\n",
    "\n",
    "This is a method commonly used in research papers that assigns the full demographics from all census block groups that have centroids inside of a PSA."
   ]
  },
  {
   "cell_type": "code",
   "execution_count": null,
   "id": "40213b68",
   "metadata": {},
   "outputs": [],
   "source": [
    "census_block_groups_by_centroid = {\n",
    "    census_name: 1\n",
    "    for census_name, census_x in all_census_geographies_dict.items()\n",
    "    if census_x[\"centroid\"].within(psa_x)\n",
    "}\n",
    "census_block_groups_by_centroid"
   ]
  },
  {
   "cell_type": "markdown",
   "id": "3b62bc75",
   "metadata": {},
   "source": [
    "The plot below is a grey area (representing the PSA) overlayed with a red area (the census block groups that are associated with that PSA). The lines represent the boundaries of the census block groups.\n",
    "\n",
    "It can be seen that the plot below has some gray missing area (where part of the PSA isn't being overlapped by any census block group), and some light pink area of one of the census block groups are partially outside the PSA. These mismatches may lead to errors in the demographic mapping step."
   ]
  },
  {
   "cell_type": "code",
   "execution_count": null,
   "id": "0dcce765",
   "metadata": {},
   "outputs": [],
   "source": [
    "for census_block_group, weight in census_block_groups_by_centroid.items():\n",
    "    plt.fill(\n",
    "        *all_census_geographies_dict[census_block_group][\"geometry\"].exterior.xy,\n",
    "        label=census_block_group,\n",
    "        color=\"red\",\n",
    "        alpha=0.5\n",
    "    )\n",
    "plt.fill(*psa_x.exterior.xy, label=psa_name, color=\"black\", alpha=0.2)"
   ]
  },
  {
   "cell_type": "markdown",
   "id": "631945c7",
   "metadata": {},
   "source": [
    "### Step 4, Option 2: Map census geography data to PSAs (By % area covered)"
   ]
  },
  {
   "cell_type": "markdown",
   "id": "fe4ae600",
   "metadata": {},
   "source": [
    "In this method, we find all of the census block groups that overlap in some way to the given PSA and calculate what % of that Census Block Group overlaps with the PSA. There are some rounding errors with census block groups that touch but don't overlap with PSAs, so we remove Census Block groups with a calculated area that is very small (because that indicates they simply are touching).\n",
    "\n",
    "The following code also calculates the percent area of each given Census Block Group that overlaps with the PSA. This will later be used to weight the demographics data from each Census Block Group to a given PSA. "
   ]
  },
  {
   "cell_type": "code",
   "execution_count": null,
   "id": "05efc7d6",
   "metadata": {},
   "outputs": [],
   "source": [
    "census_block_groups_pct_area = {\n",
    "    census_name: census_x[\"geometry\"].intersection(psa_x).area\n",
    "    / census_x[\"geometry\"].area\n",
    "    for census_name, census_x in all_census_geographies_dict.items()\n",
    "    if census_x[\"geometry\"].intersects(psa_x)\n",
    "    and census_x[\"geometry\"].intersection(psa_x).area >= 0.000001\n",
    "}\n",
    "census_block_groups_pct_area"
   ]
  },
  {
   "cell_type": "markdown",
   "id": "3bb854bb",
   "metadata": {},
   "source": [
    " The plot below is a grey area (representing the PSA) overlayed with a red area (the census block groups that are associated with that PSA). The lines represent the boundaries of the census block groups.\n",
    " \n",
    " While it looks like an additional census block group (421019801001, the light pink one at the bottom of the plot) was added that only slightly overlaps with the given PSA, this is accounted for because its weight is 0.16 (as can be seen in the last line of the dictionary above), meaning that this method assumes that only 16% of the population of that census block group live in the PSA."
   ]
  },
  {
   "cell_type": "code",
   "execution_count": null,
   "id": "4beca01a",
   "metadata": {},
   "outputs": [],
   "source": [
    "for census_block_group, weight in census_block_groups_pct_area.items():\n",
    "    plt.fill(\n",
    "        *all_census_geographies_dict[census_block_group][\"geometry\"].exterior.xy,\n",
    "        label=census_block_group,\n",
    "        color=\"red\",\n",
    "        alpha=0.5\n",
    "    )\n",
    "plt.fill(*psa_x.exterior.xy, label=psa_name, color=\"black\", alpha=0.2)"
   ]
  },
  {
   "cell_type": "markdown",
   "id": "9d99c884",
   "metadata": {},
   "source": [
    "## Step 5: Assign census demographic data to PSAs\n",
    "\n",
    "Given a dictionary (where the keys are the block groups that we think are in that PSA, and the values are the weights), we can then assign demographics data to PSAs.\n",
    "\n",
    "We will calculate the demographics for the prior PSA using both methods.\n"
   ]
  },
  {
   "cell_type": "code",
   "execution_count": null,
   "id": "60e35eaa",
   "metadata": {},
   "outputs": [],
   "source": [
    "census_pct = census_block_groups_pct_area"
   ]
  },
  {
   "cell_type": "markdown",
   "id": "d6d619dc",
   "metadata": {},
   "source": [
    "The following shows the demographics for each Census Block Group that we previously said is associated with a given PSA."
   ]
  },
  {
   "cell_type": "code",
   "execution_count": null,
   "id": "958bbd37",
   "metadata": {},
   "outputs": [],
   "source": [
    "census_series = pd.Series(census_pct)\n",
    "census_series = census_series[census_series > 0]\n",
    "\n",
    "demographics_of_overlapping_block_groups_df = (\n",
    "    pd.DataFrame(all_census_data_dict).T.drop(\"geoid\", axis=1).loc[census_series.index]\n",
    ")\n",
    "demographics_of_overlapping_block_groups_df"
   ]
  },
  {
   "cell_type": "markdown",
   "id": "76f53975",
   "metadata": {},
   "source": [
    "Next (and this is only relevant for the method using the % area method), we multiply the number of people in a given census block group by the % area of the Census Block Group that overlaps with the PSA to get the estimated number of people in each Census Block Group that are also in that PSA. \n",
    "\n",
    "As you can see below, the numbers are similar to the above for most Census Block Groups, with the exception of the last row, which we previously saw only had 16% overlap. Above shows 37 White Non-Latino people live in Census Block Group 421019801001, but we belive that only 6 of those people live in the PSA."
   ]
  },
  {
   "cell_type": "code",
   "execution_count": null,
   "id": "2b0b27c4",
   "metadata": {},
   "outputs": [],
   "source": [
    "demographics_of_overlapping_block_groups_df.mul(census_series, axis=0)"
   ]
  },
  {
   "cell_type": "markdown",
   "id": "9005cce2",
   "metadata": {},
   "source": [
    "After summing all of the people across all the associated census block groups in the given PSA, we round to make sure we get even numbers of people. We then end up with the demographics of the PSA."
   ]
  },
  {
   "cell_type": "code",
   "execution_count": null,
   "id": "689d9b9b",
   "metadata": {},
   "outputs": [],
   "source": [
    "demographics_of_overlapping_block_groups_df.mul(census_series, axis=0).sum().astype(\n",
    "    float\n",
    ").round().to_dict()"
   ]
  },
  {
   "cell_type": "markdown",
   "id": "94083b8a",
   "metadata": {},
   "source": [
    "Lets see how this compares to the centroid method. It seems like the % area method includes 2 more 'Black Non-Latino' people and 4 more 'White - Non-Latino' people."
   ]
  },
  {
   "cell_type": "code",
   "execution_count": null,
   "id": "9df6328d",
   "metadata": {},
   "outputs": [],
   "source": [
    "census_pct_by_centroid = census_block_groups_by_centroid\n",
    "census_series_by_centroid = pd.Series(census_pct_by_centroid)\n",
    "census_series_by_centroid = census_series_by_centroid[census_series_by_centroid > 0]\n",
    "\n",
    "pd.DataFrame(all_census_data_dict).T.drop(\"geoid\", axis=1).loc[\n",
    "    census_series_by_centroid.index\n",
    "].mul(census_series, axis=0).sum().astype(float).round().to_dict()"
   ]
  },
  {
   "cell_type": "markdown",
   "id": "0a89076f",
   "metadata": {},
   "source": [
    "## The full code for all PSAs, Districts, Divisions, and the City using some cleaned up functions."
   ]
  },
  {
   "cell_type": "code",
   "execution_count": null,
   "id": "7a096515",
   "metadata": {},
   "outputs": [],
   "source": [
    "pip install censusify-philly"
   ]
  },
  {
   "cell_type": "code",
   "execution_count": 26,
   "id": "9007101b",
   "metadata": {},
   "outputs": [
    {
     "ename": "NameError",
     "evalue": "name 'OpenDataPhillyGeographyName' is not defined",
     "output_type": "error",
     "traceback": [
      "\u001b[0;31m---------------------------------------------------------------------------\u001b[0m",
      "\u001b[0;31mNameError\u001b[0m                                 Traceback (most recent call last)",
      "Cell \u001b[0;32mIn [26], line 15\u001b[0m\n\u001b[1;32m     10\u001b[0m census_demo_data_df \u001b[38;5;241m=\u001b[39m PoliceDataCensusDemographicsResult\u001b[38;5;241m.\u001b[39mas_df(\n\u001b[1;32m     11\u001b[0m     census_demographics_results\n\u001b[1;32m     12\u001b[0m )\n\u001b[1;32m     14\u001b[0m census_arcgis_query \u001b[38;5;241m=\u001b[39m ArcgisQuery(CENSUS_BLOCK_GROUP_ARCGIS_QUERY_SOURCE)\n\u001b[0;32m---> 15\u001b[0m \u001b[38;5;28;01mfor\u001b[39;00m geography \u001b[38;5;129;01min\u001b[39;00m \u001b[43mOpenDataPhillyGeographyName\u001b[49m:\n\u001b[1;32m     16\u001b[0m     other_arcgis_query \u001b[38;5;241m=\u001b[39m ArcgisQuery(\n\u001b[1;32m     17\u001b[0m         OPEN_DATA_PHILLY_ARCGIS_QUERY_SOURCES[geography\u001b[38;5;241m.\u001b[39mvalue]\n\u001b[1;32m     18\u001b[0m     )\n\u001b[1;32m     19\u001b[0m     matcher \u001b[38;5;241m=\u001b[39m CensusGeoMatcher(\n\u001b[1;32m     20\u001b[0m         census_arcgis_query\u001b[38;5;241m=\u001b[39mcensus_arcgis_query,\n\u001b[1;32m     21\u001b[0m         other_arcgis_query\u001b[38;5;241m=\u001b[39mother_arcgis_query,\n\u001b[1;32m     22\u001b[0m     )\n",
      "\u001b[0;31mNameError\u001b[0m: name 'OpenDataPhillyGeographyName' is not defined"
     ]
    }
   ],
   "source": [
    "from censusify_philly.census.models import CensusDataQuery\n",
    "from censusify_philly.arcgis.models import ArcgisQuery\n",
    "from censusify_philly.police_geographies import PoliceDataCensusDemographicsResult, CENSUS_BLOCK_GROUP_ARCGIS_QUERY_SOURCE, OPEN_DATA_PHILLY_ARCGIS_QUERY_SOURCES\n",
    "\n",
    "census_data_query = CensusDataQuery(census=Census(census_api_key))\n",
    "census_demographics_results = census_data_query._get_demographic_data(\n",
    "    state_fips=\"42\", # PA \n",
    "    county_fips=\"101\" # Philly\n",
    ")\n",
    "census_demo_data_df = PoliceDataCensusDemographicsResult.as_df(\n",
    "    census_demographics_results\n",
    ")\n",
    "\n",
    "census_arcgis_query = ArcgisQuery(CENSUS_BLOCK_GROUP_ARCGIS_QUERY_SOURCE)\n",
    "for geography in OpenDataPhillyGeographyName:\n",
    "    other_arcgis_query = ArcgisQuery(\n",
    "        OPEN_DATA_PHILLY_ARCGIS_QUERY_SOURCES[geography.value]\n",
    "    )\n",
    "    matcher = CensusGeoMatcher(\n",
    "        census_arcgis_query=census_arcgis_query,\n",
    "        other_arcgis_query=other_arcgis_query,\n",
    "    )\n",
    "\n",
    "    # Download the geographic data\n",
    "    print(f\"Downloading geographic data for {geography}...\")\n",
    "    geo_results = matcher.generate_geo_matched_results(\n",
    "        state_fips=STATE_FIPS,\n",
    "        county_fips=COUNTY_FIPS,\n",
    "        relationship=CensusBlockRelationship.centroid_is_within,\n",
    "    )\n",
    "    df = matcher.assign_demographic_data_to_custom_geographies(\n",
    "        geo_results=geo_results, census_demographics_df=census_demo_data_df\n",
    "    )\n",
    "    df.sort_index().to_csv(f\"{geography.value}.csv\")\n"
   ]
  },
  {
   "cell_type": "code",
   "execution_count": null,
   "id": "62d131b5",
   "metadata": {},
   "outputs": [],
   "source": []
  }
 ],
 "metadata": {
  "kernelspec": {
   "display_name": "Python 3 (ipykernel)",
   "language": "python",
   "name": "python3"
  },
  "language_info": {
   "codemirror_mode": {
    "name": "ipython",
    "version": 3
   },
   "file_extension": ".py",
   "mimetype": "text/x-python",
   "name": "python",
   "nbconvert_exporter": "python",
   "pygments_lexer": "ipython3",
   "version": "3.10.4"
  }
 },
 "nbformat": 4,
 "nbformat_minor": 5
}
